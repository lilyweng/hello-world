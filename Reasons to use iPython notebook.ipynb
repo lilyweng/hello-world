{
 "cells": [
  {
   "cell_type": "markdown",
   "metadata": {},
   "source": [
    "### Good summary and reviews:\n",
    "\n",
    "* [1] Save results to .py file\n",
    "\n",
    "https://yenlungblog.wordpress.com/2014/05/07/python-ipython-%E7%9A%84-notebook-%E7%95%8C%E9%9D%A2-ii-%E7%A8%8B%E5%BC%8F%E6%AA%94%E7%9A%84%E5%AD%98%E5%8F%96/\n",
    "\n",
    "* [2] Easy ploting\n",
    "\n",
    "https://yenlungblog.wordpress.com/2013/11/21/python-ipython-%E7%9A%84-notebook-%E7%95%8C%E9%9D%A2/\n",
    "\n",
    "* [3] Easy interaction\n",
    "\n",
    "https://yenlungblog.wordpress.com/2014/05/23/python-ipython-%E7%9A%84-notebook-%E7%95%8C%E9%9D%A2-iii-%E4%BA%92%E5%8B%95%E6%A8%A1%E7%A4%BA/\n",
    "\n",
    "* [4] Can directly make ppt slides\n",
    "\n",
    "https://yenlungblog.wordpress.com/2014/06/17/python-%E7%94%A8-ipython-notebook-%E5%81%9A%E7%B0%A1%E5%A0%B1/"
   ]
  },
  {
   "cell_type": "code",
   "execution_count": null,
   "metadata": {
    "collapsed": true
   },
   "outputs": [],
   "source": []
  }
 ],
 "metadata": {
  "anaconda-cloud": {},
  "kernelspec": {
   "display_name": "Python [default]",
   "language": "python",
   "name": "python3"
  },
  "language_info": {
   "codemirror_mode": {
    "name": "ipython",
    "version": 3
   },
   "file_extension": ".py",
   "mimetype": "text/x-python",
   "name": "python",
   "nbconvert_exporter": "python",
   "pygments_lexer": "ipython3",
   "version": "3.5.2"
  }
 },
 "nbformat": 4,
 "nbformat_minor": 1
}
